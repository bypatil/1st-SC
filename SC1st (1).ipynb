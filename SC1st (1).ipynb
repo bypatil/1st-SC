{
  "nbformat": 4,
  "nbformat_minor": 0,
  "metadata": {
    "colab": {
      "provenance": [],
      "toc_visible": true
    },
    "kernelspec": {
      "name": "python3",
      "display_name": "Python 3"
    },
    "language_info": {
      "name": "python"
    }
  },
  "cells": [
    {
      "cell_type": "code",
      "execution_count": 1,
      "metadata": {
        "colab": {
          "base_uri": "https://localhost:8080/"
        },
        "id": "LSctyOYUdQE0",
        "outputId": "5573f8ba-016d-4b07-a1db-2be5fc464775"
      },
      "outputs": [
        {
          "output_type": "stream",
          "name": "stdout",
          "text": [
            "x1 x2 w1 w2 t o\n",
            "0  0  1  1  2  0\n",
            "0  1  1  1  2  0\n",
            "1  0  1  1  2  0\n",
            "1  1  1  1  2  1\n"
          ]
        }
      ],
      "source": [
        "#AND GATE\n",
        "\n",
        "x1 = [0,0,1,1]\n",
        "x2 = [0,1,0,1]\n",
        "w1 = [1,1,1,1]\n",
        "w2 = [1,1,1,1]\n",
        "\n",
        "t=2\n",
        "\n",
        "print(\"x1 x2 w1 w2 t o\")\n",
        "for i in range(len(x1)):\n",
        "    if(x1[i]*w1[i]+x2[i]*w2[i]) >= t:\n",
        "        print(x1[i],'',x2[i],'',w1[i],'',w2[i],'',t,'',1)\n",
        "    else:\n",
        "        print(x1[i],'',x2[i],'',w1[i],'',w2[i],'',t,'',0)\n"
      ]
    },
    {
      "cell_type": "code",
      "source": [
        "#OR GATE\n",
        "\n",
        "x1 = [0,0,1,1]\n",
        "x2 = [0,1,0,1]\n",
        "w1 = [1,1,1,1]\n",
        "w2 = [1,1,1,1]\n",
        "\n",
        "t=1\n",
        "\n",
        "print(\"x1 x2 w1 w2 t o\")\n",
        "for i in range(len(x1)):\n",
        "    if(x1[i]*w1[i]+x2[i]*w2[i]) >= t:\n",
        "        print(x1[i],'',x2[i],'',w1[i],'',w2[i],'',t,'',1)\n",
        "    else:\n",
        "        print(x1[i],'',x2[i],'',w1[i],'',w2[i],'',t,'',0)\n"
      ],
      "metadata": {
        "colab": {
          "base_uri": "https://localhost:8080/"
        },
        "id": "2dG8exoiebu2",
        "outputId": "c93132f4-b3c8-49f1-c5c0-fc19ebfdf26d"
      },
      "execution_count": 3,
      "outputs": [
        {
          "output_type": "stream",
          "name": "stdout",
          "text": [
            "x1 x2 w1 w2 t o\n",
            "0  0  1  1  1  0\n",
            "0  1  1  1  1  1\n",
            "1  0  1  1  1  1\n",
            "1  1  1  1  1  1\n"
          ]
        }
      ]
    },
    {
      "cell_type": "code",
      "source": [
        "#NOR GATE\n",
        "\n",
        "x1 = [0,0,1,1]\n",
        "x2 = [0,1,0,1]\n",
        "w1 = [1,1,1,1]\n",
        "w2 = [1,1,1,1]\n",
        "\n",
        "t=-1\n",
        "\n",
        "print(\"x1 x2 w1 w2 t o\")\n",
        "for i in range(len(x1)):\n",
        "    if(x1[i]*w1[i]+x2[i]*w2[i]) >= t:\n",
        "        print(x1[i],'',x2[i],'',w1[i],'',w2[i],'',t,'',1)\n",
        "    else:\n",
        "        print(x1[i],'',x2[i],'',w1[i],'',w2[i],'',t,'',0)\n"
      ],
      "metadata": {
        "colab": {
          "base_uri": "https://localhost:8080/"
        },
        "id": "x-BNeBxIeso5",
        "outputId": "76e914ce-c3da-426c-a44d-fae24288958b"
      },
      "execution_count": 5,
      "outputs": [
        {
          "output_type": "stream",
          "name": "stdout",
          "text": [
            "x1 x2 w1 w2 t o\n",
            "0  0  1  1  -1  1\n",
            "0  1  1  1  -1  1\n",
            "1  0  1  1  -1  1\n",
            "1  1  1  1  -1  1\n"
          ]
        }
      ]
    },
    {
      "cell_type": "code",
      "source": [
        "#XOR Gate\n",
        "x1 = [0, 0, 1, 1]\n",
        "x2 = [0, 1, 0, 1]\n",
        "w1 = [1,-1,-1, 1]\n",
        "w2 = [1,1,-1, -1]\n",
        "t1=0\n",
        "t2=1\n",
        "#output\n",
        "print(f\"{'x1':<4} {'x2':<4} {'w1':<4} {'w2':<4} {'t1':<4} {'t2':<4} {'O':<2}\")\n",
        "for i in range(len(x1)):\n",
        "    net1 = x1[i]*w1[i] + x2[i]*w2[i]\n",
        "    o1 =  1 if net1 >= t1 else 0\n",
        "    net2 = o1*w1[i] + (1-o1)*w2[i]\n",
        "    o =   1 if net2 >= t2 else 0\n",
        "    print(f\"{x1[i]:<4} {x2[i]:<4} {w1[i]:<4} {w2[i]:<4} {t1:<4} {t2:<4} {o:<2}\")\n"
      ],
      "metadata": {
        "id": "eg1gBuPo5mn3",
        "outputId": "14bc7a8c-b008-459b-8a79-9128e9569409",
        "colab": {
          "base_uri": "https://localhost:8080/"
        }
      },
      "execution_count": 8,
      "outputs": [
        {
          "output_type": "stream",
          "name": "stdout",
          "text": [
            "x1   x2   w1   w2   t1   t2   O \n",
            "0    0    1    1    0    1    1 \n",
            "0    1    -1   1    0    1    0 \n",
            "1    0    -1   -1   0    1    0 \n",
            "1    1    1    -1   0    1    1 \n"
          ]
        }
      ]
    }
  ]
}